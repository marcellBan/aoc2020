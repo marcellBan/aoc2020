{
 "cells": [
  {
   "cell_type": "code",
   "execution_count": 8,
   "metadata": {},
   "outputs": [
    {
     "name": "stdout",
     "output_type": "stream",
     "text": [
      "Part 1 answer: 219\n"
     ]
    }
   ],
   "source": [
    "import json\n",
    "import re\n",
    "\n",
    "pp_data = {}\n",
    "required_fields = (\n",
    "    ('byr',re.compile(r'^(19[2-9][0-9]|200[0-2])$')),\n",
    "    ('iyr',re.compile(r'^(20(1[0-9]|20))$')),\n",
    "    ('eyr',re.compile(r'^(20(2[0-9]|30))$')),\n",
    "    ('hgt',re.compile(r'^(1([5-8][0-9]|9[0-3])cm|(59|6[0-9]|7[0-6])in)$')),\n",
    "    ('hcl',re.compile(r'^#[a-f0-9]{6}$')),\n",
    "    ('ecl',re.compile(r'^(amb|blu|brn|gry|grn|hzl|oth)$')),\n",
    "    ('pid',re.compile(r'^\\d{9}$'))\n",
    ")\n",
    "with open('Day4.json') as inp_data:\n",
    "    pp_data = json.load(inp_data)\n",
    "\n",
    "print(f'Part 1 answer: {len(list(filter(lambda x: all(y[0] in x for y in required_fields),pp_data)))}')\n"
   ]
  },
  {
   "cell_type": "code",
   "execution_count": 9,
   "metadata": {},
   "outputs": [
    {
     "name": "stdout",
     "output_type": "stream",
     "text": [
      "Part 2 answer: 127\n"
     ]
    }
   ],
   "source": [
    "print(f'Part 2 answer: {len(list(filter(lambda x: all(y[0] in x and y[1].search(x[y[0]]) is not None for y in required_fields),pp_data)))}')"
   ]
  },
  {
   "cell_type": "code",
   "execution_count": null,
   "metadata": {},
   "outputs": [],
   "source": []
  }
 ],
 "metadata": {
  "kernelspec": {
   "display_name": "Python 3",
   "language": "python",
   "name": "python3"
  },
  "language_info": {
   "codemirror_mode": {
    "name": "ipython",
    "version": 3
   },
   "file_extension": ".py",
   "mimetype": "text/x-python",
   "name": "python",
   "nbconvert_exporter": "python",
   "pygments_lexer": "ipython3",
   "version": "3.8.5"
  }
 },
 "nbformat": 4,
 "nbformat_minor": 4
}
