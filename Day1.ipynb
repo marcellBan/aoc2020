{
 "cells": [
  {
   "cell_type": "markdown",
   "metadata": {},
   "source": [
    "# --- Day 1: Report Repair ---\n",
    "After saving Christmas five years in a row, you've decided to take a vacation at a nice resort on a tropical island. Surely, Christmas will go on without you.\n",
    "\n",
    "The tropical island has its own currency and is entirely cash-only. The gold coins used there have a little picture of a starfish; the locals just call them stars. None of the currency exchanges seem to have heard of them, but somehow, you'll need to find fifty of these coins by the time you arrive so you can pay the deposit on your room.\n",
    "\n",
    "To save your vacation, you need to get all fifty stars by December 25th.\n",
    "\n",
    "Collect stars by solving puzzles. Two puzzles will be made available on each day in the Advent calendar; the second puzzle is unlocked when you complete the first. Each puzzle grants one star. Good luck!\n",
    "\n",
    "Before you leave, the Elves in accounting just need you to fix your expense report (your puzzle input); apparently, something isn't quite adding up.\n",
    "\n",
    "Specifically, they need you to find the two entries that sum to `2020` and then multiply those two numbers together.\n",
    "\n",
    "For example, suppose your expense report contained the following:\n",
    "```\n",
    "1721\n",
    "979\n",
    "366\n",
    "299\n",
    "675\n",
    "1456\n",
    "```\n",
    "In this list, the two entries that sum to `2020` are `1721` and `299`. Multiplying them together produces `1721 * 299 = 514579`, so the correct answer is `514579`.\n",
    "\n",
    "Of course, your expense report is much larger. Find the two entries that sum to `2020`; what do you get if you multiply them together?"
   ]
  },
  {
   "cell_type": "markdown",
   "metadata": {},
   "source": [
    "## Input"
   ]
  },
  {
   "cell_type": "code",
   "execution_count": 2,
   "metadata": {},
   "outputs": [],
   "source": [
    "numbers = [1429, 1368, 1661, 1687, 1593, 1495, 1565, 1500, 1635, 1845, 1645, 1999, 1415, 1054, 1930, 1774, 1405, 1993,\n",
    "           1757, 1623, 1675, 1665, 631, 1950, 1702, 1311, 1509, 1790, 1643, 1884, 226, 1455, 1679, 1746, 1284, 1342,\n",
    "           1684, 1543, 1396, 1806, 1523, 1363, 1011, 1577, 1767, 1287, 1885, 1517, 1556, 1722, 1260, 1624, 1466, 1263,\n",
    "           1162, 1688, 1202, 1913, 1964, 1385, 1970, 1976, 1431, 858, 1748, 1544, 1438, 1300, 1926, 1587, 1376, 1939,\n",
    "           1039, 1639, 1539, 1491, 1631, 1521, 1564, 1507, 1637, 1534, 1713, 1533, 1118, 1356, 2003, 282, 1079, 1837,\n",
    "           1259, 1941, 1836, 1903, 1433, 1467, 1027, 1441, 1048, 1742, 1087, 1872, 1476, 1657, 1361, 1182, 1494, 1529,\n",
    "           1822, 1444, 1330, 1514, 1723, 1432, 1683, 1997, 1443, 1474, 1932, 1504, 1313, 1765, 19, 1784, 1619, 992,\n",
    "           1560, 1680, 1626, 1558, 1899, 1293, 1676, 1161, 1140, 1341, 1597, 1628, 1611, 1302, 1269, 1241, 1952, 1591,\n",
    "           1726, 428, 1703, 1289, 1109, 1478, 1002, 1817, 1849, 1838, 1319, 1641, 583, 1920, 1453, 1411, 1870, 1763,\n",
    "           1469, 1646, 1719, 1213, 1462, 1545, 1682, 1711, 18, 2004, 1252, 1620, 1559, 1315, 781, 1656, 1987, 1436,\n",
    "           1630, 1985, 1897, 1551, 1296, 1282, 1735, 1320, 1659, 1271, 1380, 1274, 1876, 1492, 1298, 1399, 1692, 1265,\n",
    "           1555, 1337]\n"
   ]
  },
  {
   "cell_type": "markdown",
   "metadata": {},
   "source": [
    "## Part 1"
   ]
  },
  {
   "cell_type": "code",
   "execution_count": 4,
   "metadata": {},
   "outputs": [
    {
     "name": "stdout",
     "output_type": "stream",
     "text": [
      "Part 1 answer: 996996\n"
     ]
    }
   ],
   "source": [
    "for i, a in enumerate(numbers[:-1]):\n",
    "    for b in numbers[i+1:]:\n",
    "        if a + b == 2020:\n",
    "            print(f'Part 1 answer: {a * b}')"
   ]
  },
  {
   "cell_type": "markdown",
   "metadata": {},
   "source": [
    "## Part 2\n",
    "The Elves in accounting are thankful for your help; one of them even offers you a starfish coin they had left over from a past vacation. They offer you a second one if you can find three numbers in your expense report that meet the same criteria.\n",
    "\n",
    "Using the above example again, the three entries that sum to `2020` are `979`, `366`, and `675`. Multiplying them together produces the answer, `241861950`.\n",
    "\n",
    "In your expense report, what is the product of the three entries that sum to `2020`?"
   ]
  },
  {
   "cell_type": "code",
   "execution_count": 5,
   "metadata": {},
   "outputs": [
    {
     "name": "stdout",
     "output_type": "stream",
     "text": [
      "Part 2 answer: 9210402\n",
      "Part 2 answer: 9210402\n",
      "Part 2 answer: 9210402\n"
     ]
    }
   ],
   "source": [
    "for i, a in enumerate(numbers[:-2]):\n",
    "    for j, b in enumerate(numbers[i+1:-1]):\n",
    "        for c in numbers[j+1:]:\n",
    "            if (a + b + c) == 2020:\n",
    "                print(f'Part 2 answer: {a * b * c}')"
   ]
  }
 ],
 "metadata": {
  "celltoolbar": "Raw Cell Format",
  "kernelspec": {
   "display_name": "Python 3",
   "language": "python",
   "name": "python3"
  },
  "language_info": {
   "codemirror_mode": {
    "name": "ipython",
    "version": 3
   },
   "file_extension": ".py",
   "mimetype": "text/x-python",
   "name": "python",
   "nbconvert_exporter": "python",
   "pygments_lexer": "ipython3",
   "version": "3.8.5"
  }
 },
 "nbformat": 4,
 "nbformat_minor": 4
}
